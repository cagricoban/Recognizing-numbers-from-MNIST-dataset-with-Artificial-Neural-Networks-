{
 "cells": [
  {
   "cell_type": "markdown",
   "metadata": {
    "id": "L_0ne-xM3uTZ"
   },
   "source": [
    "# Recognizing numbers from MNIST dataset with Artificial Neural Networks"
   ]
  },
  {
   "cell_type": "code",
   "execution_count": 1,
   "metadata": {
    "executionInfo": {
     "elapsed": 3457,
     "status": "ok",
     "timestamp": 1671338166061,
     "user": {
      "displayName": "çağrı çoban",
      "userId": "06894156551956065291"
     },
     "user_tz": -180
    },
    "id": "hJql6En8joLS"
   },
   "outputs": [],
   "source": [
    "####--------------------# Required libraries#-------------------####\n",
    "import  tensorflow as tf \n",
    "from tensorflow.keras.datasets import mnist # # Library of Dataset\n",
    "from tensorflow.keras.models import load_model, Sequential # Library for the installation of the model\n",
    "from tensorflow.keras.layers import Dense, Flatten  # Library related to artificial neural network layers\n",
    "from tensorflow.keras.utils import to_categorical, plot_model # required library to use preprocessing\n",
    "\n",
    "import matplotlib.pyplot as plt\n",
    "import numpy as np\n",
    "\n",
    "import warnings # libraries required for alerts\n",
    "from warnings import filterwarnings\n",
    "warnings.filterwarnings(\"ignore\",category=DeprecationWarning)\n",
    "warnings.filterwarnings(\"ignore\",category=FutureWarning)\n",
    "warnings.filterwarnings(\"ignore\",category=UserWarning)\n",
    "filterwarnings(\"ignore\")\n",
    "\n",
    "\n"
   ]
  },
  {
   "cell_type": "markdown",
   "metadata": {
    "id": "HAf3Wl0F4kms"
   },
   "source": [
    "The process of loading the dataset and splitting it into training and test data"
   ]
  },
  {
   "cell_type": "code",
   "execution_count": 2,
   "metadata": {
    "colab": {
     "base_uri": "https://localhost:8080/"
    },
    "executionInfo": {
     "elapsed": 968,
     "status": "ok",
     "timestamp": 1671338170355,
     "user": {
      "displayName": "çağrı çoban",
      "userId": "06894156551956065291"
     },
     "user_tz": -180
    },
    "id": "CqbUWnddnlmq",
    "outputId": "d76ae704-fcbe-4da3-f252-fde4204bc30a"
   },
   "outputs": [
    {
     "name": "stdout",
     "output_type": "stream",
     "text": [
      "Downloading data from https://storage.googleapis.com/tensorflow/tf-keras-datasets/mnist.npz\n",
      "11490434/11490434 [==============================] - 0s 0us/step\n"
     ]
    }
   ],
   "source": [
    "(x_train,y_train),(x_test,y_test) = mnist.load_data()"
   ]
  },
  {
   "cell_type": "markdown",
   "metadata": {
    "id": "ffaS34L558pr"
   },
   "source": [
    "Training and testing data were looked at; It has been seen that there are 60,000 data in the training and 10,000 data in the test."
   ]
  },
  {
   "cell_type": "code",
   "execution_count": 3,
   "metadata": {
    "colab": {
     "base_uri": "https://localhost:8080/"
    },
    "executionInfo": {
     "elapsed": 404,
     "status": "ok",
     "timestamp": 1671338174256,
     "user": {
      "displayName": "çağrı çoban",
      "userId": "06894156551956065291"
     },
     "user_tz": -180
    },
    "id": "8NWypJcfn6au",
    "outputId": "ce0c7c6d-8743-4081-f92a-a6d836f00d49"
   },
   "outputs": [
    {
     "name": "stdout",
     "output_type": "stream",
     "text": [
      "Training Set Size: (60000, 28, 28) (60000,)\n"
     ]
    }
   ],
   "source": [
    "print(\"Training Set Size:\",x_train.shape,y_train.shape)"
   ]
  },
  {
   "cell_type": "code",
   "execution_count": 4,
   "metadata": {
    "colab": {
     "base_uri": "https://localhost:8080/"
    },
    "executionInfo": {
     "elapsed": 325,
     "status": "ok",
     "timestamp": 1671338175915,
     "user": {
      "displayName": "çağrı çoban",
      "userId": "06894156551956065291"
     },
     "user_tz": -180
    },
    "id": "PJKlnCgdoQBM",
    "outputId": "ee679c24-fce2-4436-ea29-15976d7153cb"
   },
   "outputs": [
    {
     "name": "stdout",
     "output_type": "stream",
     "text": [
      "Test Set Size: (10000, 28, 28) (10000,)\n"
     ]
    }
   ],
   "source": [
    "print(\"Test Set Size:\",x_test.shape,y_test.shape)"
   ]
  },
  {
   "cell_type": "markdown",
   "metadata": {
    "id": "F8qTTIQh8uj4"
   },
   "source": [
    "We look at how many different categories our independent variable is in."
   ]
  },
  {
   "cell_type": "markdown",
   "metadata": {
    "id": "PamVIjtm85Pn"
   },
   "source": [
    "### Examples from the dataset"
   ]
  },
  {
   "cell_type": "code",
   "execution_count": 5,
   "metadata": {
    "executionInfo": {
     "elapsed": 397,
     "status": "ok",
     "timestamp": 1671338179602,
     "user": {
      "displayName": "çağrı çoban",
      "userId": "06894156551956065291"
     },
     "user_tz": -180
    },
    "id": "vVQsYVKJoWrd"
   },
   "outputs": [],
   "source": [
    "num_labels = len(np.unique(y_train))"
   ]
  },
  {
   "cell_type": "markdown",
   "metadata": {
    "id": "hMSd5fwv9JHn"
   },
   "source": [
    "59,000. observation checked. The screen color tone (cmap) is selected as gray."
   ]
  },
  {
   "cell_type": "code",
   "execution_count": 6,
   "metadata": {
    "colab": {
     "base_uri": "https://localhost:8080/",
     "height": 592
    },
    "executionInfo": {
     "elapsed": 404,
     "status": "ok",
     "timestamp": 1671338182208,
     "user": {
      "displayName": "çağrı çoban",
      "userId": "06894156551956065291"
     },
     "user_tz": -180
    },
    "id": "823OAO7upS2U",
    "outputId": "655883d3-eeb6-43bb-e714-4433de4f7391"
   },
   "outputs": [
    {
     "data": {
      "image/png": "[encoded data removed]",
      "text/plain": [
       "<Figure size 720x720 with 1 Axes>"
      ]
     },
     "metadata": {
      "needs_background": "light"
     },
     "output_type": "display_data"
    }
   ],
   "source": [
    "plt.figure(figsize=(10,10))\n",
    "plt.imshow(x_train[59000], cmap='gray');\n"
   ]
  },
  {
   "cell_type": "markdown",
   "metadata": {
    "id": "njN9K8xZAIre"
   },
   "source": [
    "If we want to see ten images from the dataset, we can do it with a for loop."
   ]
  },
  {
   "cell_type": "code",
   "execution_count": 7,
   "metadata": {
    "colab": {
     "base_uri": "https://localhost:8080/",
     "height": 237
    },
    "executionInfo": {
     "elapsed": 602,
     "status": "ok",
     "timestamp": 1671338187750,
     "user": {
      "displayName": "çağrı çoban",
      "userId": "06894156551956065291"
     },
     "user_tz": -180
    },
    "id": "XwQTuLT_phoL",
    "outputId": "a77ec6a9-636a-441d-f072-108d03043d0e"
   },
   "outputs": [
    {
     "data": {
      "image/png": "[encoded data removed]",
      "text/plain": [
       "<Figure size 720x720 with 10 Axes>"
      ]
     },
     "metadata": {
      "needs_background": "light"
     },
     "output_type": "display_data"
    }
   ],
   "source": [
    "plt.figure(figsize=(10,10))\n",
    "for n in range(10):\n",
    "  ax=plt.subplot(5,5,n+1)\n",
    "  plt.imshow(x_train[n],cmap='gray')\n",
    "  plt.axis('off')"
   ]
  },
  {
   "cell_type": "code",
   "execution_count": 8,
   "metadata": {
    "executionInfo": {
     "elapsed": 435,
     "status": "ok",
     "timestamp": 1671338189490,
     "user": {
      "displayName": "çağrı çoban",
      "userId": "06894156551956065291"
     },
     "user_tz": -180
    },
    "id": "mgRFN-yTAoFL"
   },
   "outputs": [],
   "source": [
    "def visualize_img(data):\n",
    "  plt.figure(figsize=(10,10))\n",
    "  for n in range(10):\n",
    "    ax=plt.subplot(5,5,n+1)\n",
    "    plt.imshow(x_train[n],cmap='gray')\n",
    "    plt.axis('off')"
   ]
  },
  {
   "cell_type": "code",
   "execution_count": 9,
   "metadata": {
    "colab": {
     "base_uri": "https://localhost:8080/"
    },
    "executionInfo": {
     "elapsed": 8,
     "status": "ok",
     "timestamp": 1671338190688,
     "user": {
      "displayName": "çağrı çoban",
      "userId": "06894156551956065291"
     },
     "user_tz": -180
    },
    "id": "i1cNy-PsqlDW",
    "outputId": "5a7d95a5-84df-4456-c30c-34e365bdd9d0"
   },
   "outputs": [
    {
     "data": {
      "text/plain": [
       "(28, 28)"
      ]
     },
     "execution_count": 9,
     "metadata": {},
     "output_type": "execute_result"
    }
   ],
   "source": [
    "x_train[2].shape"
   ]
  },
  {
   "cell_type": "markdown",
   "metadata": {
    "id": "u-teur-WgiNT"
   },
   "source": [
    "##  Data Preparation"
   ]
  },
  {
   "cell_type": "markdown",
   "metadata": {
    "id": "Fyx6VjHvg1ox"
   },
   "source": [
    "### Encoding\n",
    "It is implemented for dependent variables (label, output). The expression in which the dependent variable is shown is \"1\" and the others are \"0\"."
   ]
  },
  {
   "cell_type": "code",
   "execution_count": 10,
   "metadata": {
    "colab": {
     "base_uri": "https://localhost:8080/"
    },
    "executionInfo": {
     "elapsed": 389,
     "status": "ok",
     "timestamp": 1671338194561,
     "user": {
      "displayName": "çağrı çoban",
      "userId": "06894156551956065291"
     },
     "user_tz": -180
    },
    "id": "ze2rol7RFBsA",
    "outputId": "8f55148a-542e-4a29-a8df-4b3ff0c6ee77"
   },
   "outputs": [
    {
     "data": {
      "text/plain": [
       "array([5, 0, 4, 1, 9], dtype=uint8)"
      ]
     },
     "execution_count": 10,
     "metadata": {},
     "output_type": "execute_result"
    }
   ],
   "source": [
    "y_train[0:5]"
   ]
  },
  {
   "cell_type": "code",
   "execution_count": 11,
   "metadata": {
    "executionInfo": {
     "elapsed": 433,
     "status": "ok",
     "timestamp": 1671338196275,
     "user": {
      "displayName": "çağrı çoban",
      "userId": "06894156551956065291"
     },
     "user_tz": -180
    },
    "id": "lCpkNVUqgnL8"
   },
   "outputs": [],
   "source": [
    "y_train= to_categorical(y_train)\n",
    "y_test= to_categorical(y_test)"
   ]
  },
  {
   "cell_type": "code",
   "execution_count": 12,
   "metadata": {
    "colab": {
     "base_uri": "https://localhost:8080/"
    },
    "executionInfo": {
     "elapsed": 7,
     "status": "ok",
     "timestamp": 1671338197387,
     "user": {
      "displayName": "çağrı çoban",
      "userId": "06894156551956065291"
     },
     "user_tz": -180
    },
    "id": "_v7n8r7DhI_n",
    "outputId": "88d0a221-622e-4410-caf7-28a7d1cd66a3"
   },
   "outputs": [
    {
     "data": {
      "text/plain": [
       "array([[0., 0., 0., 0., 0., 1., 0., 0., 0., 0.],\n",
       "       [1., 0., 0., 0., 0., 0., 0., 0., 0., 0.],\n",
       "       [0., 0., 0., 0., 1., 0., 0., 0., 0., 0.],\n",
       "       [0., 1., 0., 0., 0., 0., 0., 0., 0., 0.],\n",
       "       [0., 0., 0., 0., 0., 0., 0., 0., 0., 1.]], dtype=float32)"
      ]
     },
     "execution_count": 12,
     "metadata": {},
     "output_type": "execute_result"
    }
   ],
   "source": [
    "y_train[0:5] #The first picture (with index 0) got the value 1 in the column corresponding to 5."
   ]
  },
  {
   "cell_type": "markdown",
   "metadata": {
    "id": "O43T-UdOhban"
   },
   "source": [
    "## Reshaping\n",
    "\n",
    "In this section, the process of transferring the pixelation process as a dimension is included."
   ]
  },
  {
   "cell_type": "code",
   "execution_count": 13,
   "metadata": {
    "executionInfo": {
     "elapsed": 414,
     "status": "ok",
     "timestamp": 1671338200753,
     "user": {
      "displayName": "çağrı çoban",
      "userId": "06894156551956065291"
     },
     "user_tz": -180
    },
    "id": "OSDf7p7WheCD"
   },
   "outputs": [],
   "source": [
    "image_size = x_train.shape[1]"
   ]
  },
  {
   "cell_type": "code",
   "execution_count": 14,
   "metadata": {
    "colab": {
     "base_uri": "https://localhost:8080/"
    },
    "executionInfo": {
     "elapsed": 8,
     "status": "ok",
     "timestamp": 1671338202159,
     "user": {
      "displayName": "çağrı çoban",
      "userId": "06894156551956065291"
     },
     "user_tz": -180
    },
    "id": "9eBTsaACho06",
    "outputId": "ecd4152d-65ac-4617-b24a-1d989000b7d5"
   },
   "outputs": [
    {
     "data": {
      "text/plain": [
       "28"
      ]
     },
     "execution_count": 14,
     "metadata": {},
     "output_type": "execute_result"
    }
   ],
   "source": [
    "image_size"
   ]
  },
  {
   "cell_type": "code",
   "execution_count": 15,
   "metadata": {
    "colab": {
     "base_uri": "https://localhost:8080/"
    },
    "executionInfo": {
     "elapsed": 312,
     "status": "ok",
     "timestamp": 1671338203844,
     "user": {
      "displayName": "çağrı çoban",
      "userId": "06894156551956065291"
     },
     "user_tz": -180
    },
    "id": "2Cy2aJvniMh2",
    "outputId": "7f2c5c99-0b66-4081-a0f5-624e938f6d92"
   },
   "outputs": [
    {
     "name": "stdout",
     "output_type": "stream",
     "text": [
      "x_train boyutu: (60000, 28, 28, 1)\n",
      "x_test boyutu: (10000, 28, 28, 1)\n"
     ]
    }
   ],
   "source": [
    "x_train= x_train.reshape(x_train.shape[0],28,28,1)\n",
    "x_test= x_test.reshape(x_test.shape[0],28,28,1)\n",
    "\n",
    "print(f\"x_train boyutu: {x_train.shape}\")\n",
    "print(f\"x_test boyutu: {x_test.shape}\")"
   ]
  },
  {
   "cell_type": "markdown",
   "metadata": {
    "id": "Fdhf-xZniLrO"
   },
   "source": [
    "### Standardization\n",
    "We perform the scaling process between 0 and 1 in order to learn our data faster and more accurately."
   ]
  },
  {
   "cell_type": "code",
   "execution_count": 16,
   "metadata": {
    "executionInfo": {
     "elapsed": 297,
     "status": "ok",
     "timestamp": 1671338206691,
     "user": {
      "displayName": "çağrı çoban",
      "userId": "06894156551956065291"
     },
     "user_tz": -180
    },
    "id": "afB7vpcekWks"
   },
   "outputs": [],
   "source": [
    "x_train = x_train.astype('float32')/255\n",
    "x_test = x_test.astype('float32')/255"
   ]
  },
  {
   "cell_type": "markdown",
   "metadata": {
    "id": "Q98TdtxslSbl"
   },
   "source": [
    "## Modeling\n",
    "\n",
    "### Neural Network Architecture"
   ]
  },
  {
   "cell_type": "markdown",
   "metadata": {
    "id": "ntvtT9oMbzZq"
   },
   "source": [
    "Input layer information (width, height, channel(28,28,1)) is defined in \"flatten\". The model consists of a hidden layer. 128 neurons are used in the hidden layers. The activation function in the hidden layers is the \"relu\" function. The output layer consists of 10 neurons. The \"softmax\" function is used in the output layer. The reason the output layer is \"softmax\" is because it is multi-classing.\"categrical_crossentropy\" was used as the error classification metric. Because our model is multi-classification. The \"man\" method was chosen as the optimization method to minimize the loss function.Precision, Recall, and accuracy were used as success metrics."
   ]
  },
  {
   "cell_type": "code",
   "execution_count": 17,
   "metadata": {
    "executionInfo": {
     "elapsed": 411,
     "status": "ok",
     "timestamp": 1671338211291,
     "user": {
      "displayName": "çağrı çoban",
      "userId": "06894156551956065291"
     },
     "user_tz": -180
    },
    "id": "yWJA1kKIleHH"
   },
   "outputs": [],
   "source": [
    "model = tf.keras.Sequential([\n",
    "    Flatten(input_shape=(28,28,1)),\n",
    "    Dense(units=128, activation='relu',name='layer1'),\n",
    "    Dense(units=num_labels,activation='softmax',name='output_layer')\n",
    "\n",
    "])\n",
    "\n",
    "model.compile(loss='categorical_crossentropy',\n",
    "              optimizer='adam',\n",
    "              metrics=[tf.keras.metrics.Precision(), tf.keras.metrics.Recall(),\"accuracy\"])"
   ]
  },
  {
   "cell_type": "code",
   "execution_count": 18,
   "metadata": {
    "colab": {
     "base_uri": "https://localhost:8080/"
    },
    "executionInfo": {
     "elapsed": 445,
     "status": "ok",
     "timestamp": 1671338213007,
     "user": {
      "displayName": "çağrı çoban",
      "userId": "06894156551956065291"
     },
     "user_tz": -180
    },
    "id": "t27OGsNcmrAB",
    "outputId": "757753fc-a15f-40f7-f7e3-5fa9c8a82e85"
   },
   "outputs": [
    {
     "name": "stdout",
     "output_type": "stream",
     "text": [
      "Model: \"sequential\"\n",
      "_________________________________________________________________\n",
      " Layer (type)                Output Shape              Param #   \n",
      "=================================================================\n",
      " flatten (Flatten)           (None, 784)               0         \n",
      "                                                                 \n",
      " layer1 (Dense)              (None, 128)               100480    \n",
      "                                                                 \n",
      " output_layer (Dense)        (None, 10)                1290      \n",
      "                                                                 \n",
      "=================================================================\n",
      "Total params: 101,770\n",
      "Trainable params: 101,770\n",
      "Non-trainable params: 0\n",
      "_________________________________________________________________\n"
     ]
    }
   ],
   "source": [
    "model.summary()"
   ]
  },
  {
   "cell_type": "markdown",
   "metadata": {
    "id": "yUbe-lLpcG7d"
   },
   "source": [
    "Model structure: 784 pixel input is given in the input layer of the model. Our middleware consists of 128 neurons. Since there are 10 digits in our output layer, there are 10 neurons. There are 100840 parameters in the hidden layer and 1290 parameters in the output layer."
   ]
  },
  {
   "cell_type": "markdown",
   "metadata": {
    "id": "dd9C7YCrfsrw"
   },
   "source": [
    "10 iterations were used for training. Batch is given to you as 128. Training dataset is given as validation data."
   ]
  },
  {
   "cell_type": "code",
   "execution_count": 20,
   "metadata": {
    "colab": {
     "base_uri": "https://localhost:8080/"
    },
    "executionInfo": {
     "elapsed": 20577,
     "status": "ok",
     "timestamp": 1671338281867,
     "user": {
      "displayName": "çağrı çoban",
      "userId": "06894156551956065291"
     },
     "user_tz": -180
    },
    "id": "rPpyAdGUsgj-",
    "outputId": "96b9f632-1d86-49a1-dd0b-d0a66e89b990"
   },
   "outputs": [
    {
     "name": "stdout",
     "output_type": "stream",
     "text": [
      "Epoch 1/10\n",
      "469/469 [==============================] - 2s 5ms/step - loss: 0.0251 - precision: 0.9945 - recall: 0.9924 - accuracy: 0.9936 - val_loss: 0.0727 - val_precision: 0.9802 - val_recall: 0.9768 - val_accuracy: 0.9777\n",
      "Epoch 2/10\n",
      "469/469 [==============================] - 2s 4ms/step - loss: 0.0217 - precision: 0.9954 - recall: 0.9937 - accuracy: 0.9946 - val_loss: 0.0736 - val_precision: 0.9801 - val_recall: 0.9768 - val_accuracy: 0.9780\n",
      "Epoch 3/10\n",
      "469/469 [==============================] - 2s 4ms/step - loss: 0.0188 - precision: 0.9962 - recall: 0.9947 - accuracy: 0.9954 - val_loss: 0.0729 - val_precision: 0.9793 - val_recall: 0.9766 - val_accuracy: 0.9775\n",
      "Epoch 4/10\n",
      "469/469 [==============================] - 2s 4ms/step - loss: 0.0155 - precision: 0.9969 - recall: 0.9961 - accuracy: 0.9966 - val_loss: 0.0787 - val_precision: 0.9785 - val_recall: 0.9758 - val_accuracy: 0.9772\n",
      "Epoch 5/10\n",
      "469/469 [==============================] - 2s 4ms/step - loss: 0.0129 - precision: 0.9978 - recall: 0.9970 - accuracy: 0.9974 - val_loss: 0.0750 - val_precision: 0.9805 - val_recall: 0.9775 - val_accuracy: 0.9789\n",
      "Epoch 6/10\n",
      "469/469 [==============================] - 2s 4ms/step - loss: 0.0121 - precision: 0.9975 - recall: 0.9969 - accuracy: 0.9973 - val_loss: 0.0697 - val_precision: 0.9804 - val_recall: 0.9784 - val_accuracy: 0.9792\n",
      "Epoch 7/10\n",
      "469/469 [==============================] - 2s 4ms/step - loss: 0.0098 - precision: 0.9982 - recall: 0.9977 - accuracy: 0.9980 - val_loss: 0.0710 - val_precision: 0.9820 - val_recall: 0.9792 - val_accuracy: 0.9799\n",
      "Epoch 8/10\n",
      "469/469 [==============================] - 2s 4ms/step - loss: 0.0082 - precision: 0.9986 - recall: 0.9982 - accuracy: 0.9985 - val_loss: 0.0798 - val_precision: 0.9798 - val_recall: 0.9774 - val_accuracy: 0.9785\n",
      "Epoch 9/10\n",
      "469/469 [==============================] - 2s 4ms/step - loss: 0.0072 - precision: 0.9989 - recall: 0.9985 - accuracy: 0.9987 - val_loss: 0.0771 - val_precision: 0.9808 - val_recall: 0.9789 - val_accuracy: 0.9795\n",
      "Epoch 10/10\n",
      "469/469 [==============================] - 2s 4ms/step - loss: 0.0061 - precision: 0.9991 - recall: 0.9989 - accuracy: 0.9990 - val_loss: 0.0786 - val_precision: 0.9800 - val_recall: 0.9782 - val_accuracy: 0.9790\n"
     ]
    }
   ],
   "source": [
    "history=model.fit(x_train, y_train, epochs=10, batch_size=128, validation_data=(x_test,y_test))"
   ]
  },
  {
   "cell_type": "markdown",
   "metadata": {
    "id": "wL-JxCBUstyH"
   },
   "source": [
    "## Evaluation"
   ]
  },
  {
   "cell_type": "code",
   "execution_count": 23,
   "metadata": {
    "colab": {
     "base_uri": "https://localhost:8080/",
     "height": 697
    },
    "executionInfo": {
     "elapsed": 1055,
     "status": "ok",
     "timestamp": 1671338443342,
     "user": {
      "displayName": "çağrı çoban",
      "userId": "06894156551956065291"
     },
     "user_tz": -180
    },
    "id": "EGU076-cs6GZ",
    "outputId": "b838fd6a-f5c6-40d7-95e2-eb7dbd9a8ca3"
   },
   "outputs": [
    {
     "data": {
      "image/png": "[encoded data removed]",
      "text/plain": [
       "<Figure size 1440x360 with 1 Axes>"
      ]
     },
     "metadata": {
      "needs_background": "light"
     },
     "output_type": "display_data"
    },
    {
     "data": {
      "image/png": "[encoded data removed]",
      "text/plain": [
       "<Figure size 1440x360 with 1 Axes>"
      ]
     },
     "metadata": {
      "needs_background": "light"
     },
     "output_type": "display_data"
    }
   ],
   "source": [
    "plt.figure(figsize=(20,5))\n",
    "plt.subplot(1,2,1)\n",
    "plt.plot(history.history['accuracy'],color='b',label='Training Accuracy')\n",
    "plt.plot(history.history['val_accuracy'],color='r',label='Validation Loss')\n",
    "plt.legend(loc='lower right')\n",
    "plt.xlabel('Epoch',fontsize=16)\n",
    "plt.xlabel('Accuracy',fontsize=16)\n",
    "plt.ylim(min(plt.ylim()))\n",
    "plt.title('Education and test success chart', fontsize=16)\n",
    "\n",
    "#-------------------------grapic 2---------------------------##\n",
    "plt.figure(figsize=(20,5))\n",
    "plt.subplot(1,2,2)\n",
    "plt.plot(history.history['loss'],color='b',label='Training Accuracy')\n",
    "plt.plot(history.history['val_loss'],color='r',label='Validation Loss')\n",
    "plt.legend(loc='upper right')\n",
    "plt.xlabel('Epoch',fontsize=16)\n",
    "plt.xlabel('Accuracy',fontsize=16)\n",
    "plt.ylim([0,max(plt.ylim())])\n",
    "plt.title('Training and Test Loss Graph', fontsize=16)\n",
    "plt.show()\n",
    "\n"
   ]
  },
  {
   "cell_type": "code",
   "execution_count": null,
   "metadata": {
    "colab": {
     "base_uri": "https://localhost:8080/"
    },
    "executionInfo": {
     "elapsed": 767,
     "status": "ok",
     "timestamp": 1671276277591,
     "user": {
      "displayName": "çağrı çoban",
      "userId": "06894156551956065291"
     },
     "user_tz": -180
    },
    "id": "EzHurHJkw7sO",
    "outputId": "d56959e1-af67-4371-c416-1cb97db6545c"
   },
   "outputs": [
    {
     "name": "stdout",
     "output_type": "stream",
     "text": [
      "\n",
      "Test Accuracy: 97.9%\n",
      "\n",
      "Test Loss: 8.3%\n",
      "\n",
      "Test Precision: 97.9%\n",
      "\n",
      "Test Recall: 97.8%\n"
     ]
    }
   ],
   "source": [
    "loss,precision,recall,acc= model.evaluate(x_test,y_test,verbose=False)\n",
    "print(\"\\nTest Accuracy: %.1f%%\" % (100.0*acc))\n",
    "print(\"\\nTest Loss: %.1f%%\" % (100.0*loss))\n",
    "print(\"\\nTest Precision: %.1f%%\" % (100.0*precision))\n",
    "print(\"\\nTest Recall: %.1f%%\" % (100.0*recall))\n",
    "\n",
    "\n"
   ]
  },
  {
   "cell_type": "markdown",
   "metadata": {
    "id": "yJtiGPNejQOb"
   },
   "source": [
    "The prediction accuracy of the model was 97.1%. Difference precision and recall metrics used in classification data were used. Precision reported 97.9% accuracy, recall 97.8% accuracy."
   ]
  },
  {
   "cell_type": "markdown",
   "metadata": {
    "id": "oURPD6ndy3x-"
   },
   "source": [
    "## Saving the Model and Using it for Prediction"
   ]
  },
  {
   "cell_type": "code",
   "execution_count": null,
   "metadata": {
    "id": "pmpCEil2y9zO"
   },
   "outputs": [],
   "source": [
    "model.save('mnist_model.h5')"
   ]
  },
  {
   "cell_type": "code",
   "execution_count": null,
   "metadata": {
    "id": "b2ytLIfuzBXx"
   },
   "outputs": [],
   "source": [
    "import random\n",
    "\n",
    "random=random.randint(0,x_test.shape[0])"
   ]
  },
  {
   "cell_type": "code",
   "execution_count": null,
   "metadata": {
    "colab": {
     "base_uri": "https://localhost:8080/"
    },
    "executionInfo": {
     "elapsed": 5,
     "status": "ok",
     "timestamp": 1671276283523,
     "user": {
      "displayName": "çağrı çoban",
      "userId": "06894156551956065291"
     },
     "user_tz": -180
    },
    "id": "Q3XH1HjDzPoW",
    "outputId": "54dfd605-2641-47ca-98a3-d6ddccc0b815"
   },
   "outputs": [
    {
     "data": {
      "text/plain": [
       "886"
      ]
     },
     "execution_count": 108,
     "metadata": {},
     "output_type": "execute_result"
    }
   ],
   "source": [
    "random"
   ]
  },
  {
   "cell_type": "code",
   "execution_count": null,
   "metadata": {
    "id": "TzfHOTdZzTIh"
   },
   "outputs": [],
   "source": [
    "test_image= x_test[random]\n"
   ]
  },
  {
   "cell_type": "code",
   "execution_count": null,
   "metadata": {
    "colab": {
     "base_uri": "https://localhost:8080/"
    },
    "executionInfo": {
     "elapsed": 449,
     "status": "ok",
     "timestamp": 1671276287112,
     "user": {
      "displayName": "çağrı çoban",
      "userId": "06894156551956065291"
     },
     "user_tz": -180
    },
    "id": "-u6DrSQdzqUK",
    "outputId": "fd9d75e3-0520-4d2c-89b9-e921c2d38deb"
   },
   "outputs": [
    {
     "data": {
      "text/plain": [
       "array([0., 0., 0., 0., 0., 0., 1., 0., 0., 0.], dtype=float32)"
      ]
     },
     "execution_count": 110,
     "metadata": {},
     "output_type": "execute_result"
    }
   ],
   "source": [
    "y_test[random]"
   ]
  },
  {
   "cell_type": "code",
   "execution_count": null,
   "metadata": {
    "colab": {
     "base_uri": "https://localhost:8080/",
     "height": 265
    },
    "executionInfo": {
     "elapsed": 598,
     "status": "ok",
     "timestamp": 1671276289366,
     "user": {
      "displayName": "çağrı çoban",
      "userId": "06894156551956065291"
     },
     "user_tz": -180
    },
    "id": "K3c71pz0zYMP",
    "outputId": "268dd71d-60f4-4a8e-e375-42b96bfc3b04"
   },
   "outputs": [
    {
     "data": {
      "image/png": "[encoded data removed]",
      "text/plain": [
       "<Figure size 432x288 with 1 Axes>"
      ]
     },
     "metadata": {
      "needs_background": "light"
     },
     "output_type": "display_data"
    }
   ],
   "source": [
    "plt.imshow(test_image.reshape(28,28), cmap='gray');"
   ]
  },
  {
   "cell_type": "code",
   "execution_count": null,
   "metadata": {
    "id": "HpNpKOPJznGH"
   },
   "outputs": [],
   "source": [
    "test_data= x_test[random].reshape(1,28,28,1)"
   ]
  },
  {
   "cell_type": "code",
   "execution_count": null,
   "metadata": {
    "colab": {
     "base_uri": "https://localhost:8080/"
    },
    "executionInfo": {
     "elapsed": 358,
     "status": "ok",
     "timestamp": 1671276297776,
     "user": {
      "displayName": "çağrı çoban",
      "userId": "06894156551956065291"
     },
     "user_tz": -180
    },
    "id": "lWCpEUtZ0CMw",
    "outputId": "9695bf4e-ec1e-40f1-b68e-4a88d7c48eeb"
   },
   "outputs": [
    {
     "name": "stdout",
     "output_type": "stream",
     "text": [
      "1/1 [==============================] - 0s 54ms/step\n"
     ]
    }
   ],
   "source": [
    "probability=model.predict(test_data)"
   ]
  },
  {
   "cell_type": "code",
   "execution_count": null,
   "metadata": {
    "colab": {
     "base_uri": "https://localhost:8080/"
    },
    "executionInfo": {
     "elapsed": 378,
     "status": "ok",
     "timestamp": 1671276301720,
     "user": {
      "displayName": "çağrı çoban",
      "userId": "06894156551956065291"
     },
     "user_tz": -180
    },
    "id": "cPBPMaPN0Peg",
    "outputId": "ac50a975-dd09-4b78-f7e1-db228529a695"
   },
   "outputs": [
    {
     "data": {
      "text/plain": [
       "array([[3.5423891e-08, 4.1896452e-11, 8.5495533e-10, 1.2525699e-15,\n",
       "        1.0943016e-09, 1.3188756e-08, 9.9998152e-01, 1.2663630e-12,\n",
       "        3.9679116e-10, 1.8465769e-05]], dtype=float32)"
      ]
     },
     "execution_count": 114,
     "metadata": {},
     "output_type": "execute_result"
    }
   ],
   "source": [
    "probability"
   ]
  },
  {
   "cell_type": "code",
   "execution_count": null,
   "metadata": {
    "id": "i5lWIFw_0VKQ"
   },
   "outputs": [],
   "source": [
    "predicted_classes=np.argmax(probability)"
   ]
  },
  {
   "cell_type": "code",
   "execution_count": null,
   "metadata": {
    "colab": {
     "base_uri": "https://localhost:8080/"
    },
    "executionInfo": {
     "elapsed": 492,
     "status": "ok",
     "timestamp": 1671276354666,
     "user": {
      "displayName": "çağrı çoban",
      "userId": "06894156551956065291"
     },
     "user_tz": -180
    },
    "id": "WM8cgIot1Ped",
    "outputId": "4c32662e-ce75-43e6-f45e-d72a7788de7f"
   },
   "outputs": [
    {
     "data": {
      "text/plain": [
       "6"
      ]
     },
     "execution_count": 116,
     "metadata": {},
     "output_type": "execute_result"
    }
   ],
   "source": [
    "predicted_classes"
   ]
  },
  {
   "cell_type": "code",
   "execution_count": null,
   "metadata": {
    "id": "HGRx6leS1VgV"
   },
   "outputs": [],
   "source": []
  }
 ],
 "metadata": {
  "colab": {
   "authorship_tag": "ABX9TyNohRTrgdCCcYdg1Vc0kRlz",
   "provenance": []
  },
  "kernelspec": {
   "display_name": "Python 3 (ipykernel)",
   "language": "python",
   "name": "python3"
  },
  "language_info": {
   "codemirror_mode": {
    "name": "ipython",
    "version": 3
   },
   "file_extension": ".py",
   "mimetype": "text/x-python",
   "name": "python",
   "nbconvert_exporter": "python",
   "pygments_lexer": "ipython3",
   "version": "3.9.13"
  }
 },
 "nbformat": 4,
 "nbformat_minor": 1
}
